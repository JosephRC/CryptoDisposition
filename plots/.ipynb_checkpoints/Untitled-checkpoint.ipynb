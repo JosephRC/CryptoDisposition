{
 "cells": [
  {
   "cell_type": "code",
   "execution_count": 1,
   "metadata": {},
   "outputs": [
    {
     "ename": "NameError",
     "evalue": "name 'go' is not defined",
     "output_type": "error",
     "traceback": [
      "\u001b[0;31m---------------------------------------------------------------------------\u001b[0m",
      "\u001b[0;31mNameError\u001b[0m                                 Traceback (most recent call last)",
      "\u001b[0;32m<ipython-input-1-92205cbda6d2>\u001b[0m in \u001b[0;36m<module>\u001b[0;34m\u001b[0m\n\u001b[1;32m      6\u001b[0m \u001b[0;31m# ti_obv_sma1-50 ti_obv_sma1-150 ti_obv_sma1-200 ti_obv_sma2-200\u001b[0m\u001b[0;34m\u001b[0m\u001b[0;34m\u001b[0m\u001b[0;34m\u001b[0m\u001b[0m\n\u001b[1;32m      7\u001b[0m \u001b[0;34m\u001b[0m\u001b[0m\n\u001b[0;32m----> 8\u001b[0;31m \u001b[0mfig\u001b[0m \u001b[0;34m=\u001b[0m \u001b[0mgo\u001b[0m\u001b[0;34m.\u001b[0m\u001b[0mFigure\u001b[0m\u001b[0;34m(\u001b[0m\u001b[0;34m)\u001b[0m\u001b[0;34m\u001b[0m\u001b[0;34m\u001b[0m\u001b[0m\n\u001b[0m\u001b[1;32m      9\u001b[0m config = {\n\u001b[1;32m     10\u001b[0m   'toImageButtonOptions': {\n",
      "\u001b[0;31mNameError\u001b[0m: name 'go' is not defined"
     ]
    }
   ],
   "source": [
    "# Split Violin Plot - confirming disposition effect\n",
    "# Odean_GrLr ti_macd ti_roc ti_rsi ti_obv_sma5-150\n",
    "# ti_sma1-50 ti_sma1-150 ti_sma5-150 ti_sma1-200 ti_sma2-200 \n",
    "\n",
    "# ti_trb50 ti_trb150 ti_trb200    ti_bb\n",
    "# ti_obv_sma1-50 ti_obv_sma1-150 ti_obv_sma1-200 ti_obv_sma2-200\n",
    "\n",
    "fig = go.Figure()\n",
    "config = {\n",
    "  'toImageButtonOptions': {\n",
    "    'format': 'svg', # one of png, svg, jpeg, webp\n",
    "    'filename': 'custom_image',\n",
    "    'height': 500,\n",
    "    'width': 1200,\n",
    "    'scale': 1 # Multiply title/legend/axis/canvas sizes by this factor\n",
    "  }\n",
    "}\n",
    "\n",
    "df = dfPaper\n",
    "\n",
    "fig.add_trace(go.Violin(x=df['TaType'][ (df['TaType']== 'Odean_GrLr') | (df['TaType']== 'ti_macd')| (df['TaType']== 'ti_roc')| \n",
    "                                        (df['TaType']== 'ti_rsi')| (df['TaType']== 'ti_obv_sma5-150') ],\n",
    "#fig.add_trace(go.Violin(x=df['TaType'],\n",
    "                        y=df['GR'],\n",
    "                        legendgroup='GR', scalegroup='Yes', name='GR',\n",
    "                        side='positive',\n",
    "                        line_color='green')\n",
    ")\n",
    "fig.add_trace(go.Violin(x=df['TaType'][ (df['TaType']== 'Odean_GrLr') | (df['TaType']== 'ti_macd')| (df['TaType']== 'ti_roc')| \n",
    "                                        (df['TaType']== 'ti_rsi')| (df['TaType']== 'ti_obv_sma5-150') ],\n",
    "#fig.add_trace(go.Violin(x=df['TaType'],\n",
    "                        y=df['LR'],\n",
    "                        legendgroup='LR', scalegroup='Yes', name='LR',\n",
    "                        side='negative',\n",
    "                        line_color='red')\n",
    ")\n",
    "\n",
    "fig.update_traces(meanline_visible=True)\n",
    "fig.update_layout(violingap=0, violinmode='overlay')\n",
    "\n",
    "fig.update_layout(#title='LR and GR',\n",
    "                   xaxis_title='Tech. Ind.',\n",
    "                   yaxis_title='Number of gains and losses realised',\n",
    "                   width=1200, height=500\n",
    ")\n",
    "\n",
    "fig.show(config=config)\n",
    "#fig.write_image(\"../plots/ViolinPlotDispEffConf.pdf\")\n"
   ]
  },
  {
   "cell_type": "code",
   "execution_count": null,
   "metadata": {},
   "outputs": [],
   "source": []
  }
 ],
 "metadata": {
  "kernelspec": {
   "display_name": "Python 3",
   "language": "python",
   "name": "python3"
  },
  "language_info": {
   "codemirror_mode": {
    "name": "ipython",
    "version": 3
   },
   "file_extension": ".py",
   "mimetype": "text/x-python",
   "name": "python",
   "nbconvert_exporter": "python",
   "pygments_lexer": "ipython3",
   "version": "3.7.6"
  }
 },
 "nbformat": 4,
 "nbformat_minor": 2
}
